{
 "cells": [
  {
   "cell_type": "code",
   "execution_count": null,
   "id": "279fc3b2",
   "metadata": {},
   "outputs": [],
   "source": []
  },
  {
   "cell_type": "code",
   "execution_count": 1,
   "id": "b450beda",
   "metadata": {},
   "outputs": [],
   "source": [
    "board=['-','-','-','-','-','-','-','-','-']"
   ]
  },
  {
   "cell_type": "code",
   "execution_count": 2,
   "id": "9166e20e",
   "metadata": {},
   "outputs": [],
   "source": [
    "def dis():\n",
    "    print('|'+board[0]+'|'+board[1]+'|'+board[2]+'|')\n",
    "    print('|'+board[3]+'|'+board[4]+'|'+board[5]+'|')\n",
    "    print('|'+board[6]+'|'+board[7]+'|'+board[8]+'|')"
   ]
  },
  {
   "cell_type": "code",
   "execution_count": 3,
   "id": "26817366",
   "metadata": {},
   "outputs": [],
   "source": [
    "def check(board):\n",
    "    player1='x'\n",
    "    player2='o'\n",
    "    \n",
    "    if board[0]==board[1]==board[2]==player1 or board[0]==board[1]==board[2]==player2:\n",
    "        return True\n",
    "    elif board[3]==board[4]==board[5]==player1 or board[3]==board[4]==board[5]==player2:\n",
    "        return True\n",
    "    elif board[6]==board[7]==board[8]==player1 or board[6]==board[7]==board[8]==player2:\n",
    "        return True\n",
    "    elif board[0]==board[3]==board[6]==player1 or board[0]==board[3]==board[6]==player2:\n",
    "        return True\n",
    "    elif board[1]==board[4]==board[7]==player1 or board[1]==board[4]==board[7]==player2:\n",
    "        return True\n",
    "    elif board[2]==board[5]==board[6]==player1 or board[2]==board[5]==board[6]==player2:\n",
    "        return True\n",
    "    elif board[0]==board[4]==board[6]==player1 or board[0]==board[4]==board[6]==player2:\n",
    "        return True\n",
    "    elif board[2]==board[4]==board[6]==player1 or board[2]==board[4]==board[6]==player2:\n",
    "        return True\n",
    "    else:\n",
    "        return False"
   ]
  },
  {
   "cell_type": "code",
   "execution_count": 4,
   "id": "f318230d",
   "metadata": {},
   "outputs": [
    {
     "name": "stdout",
     "output_type": "stream",
     "text": [
      "Enter the name of the first player: Atharva\n",
      "Enter the name of second plater: Anoushka\n",
      "|-|-|-|\n",
      "|-|-|-|\n",
      "|-|-|-|\n",
      "Enter the position : 1\n",
      "|x|-|-|\n",
      "|-|-|-|\n",
      "|-|-|-|\n",
      "Enter the position : 2\n",
      "|x|o|-|\n",
      "|-|-|-|\n",
      "|-|-|-|\n",
      "Enter the position : 3\n",
      "|x|o|x|\n",
      "|-|-|-|\n",
      "|-|-|-|\n",
      "Enter the position : 5\n",
      "|x|o|x|\n",
      "|-|o|-|\n",
      "|-|-|-|\n",
      "Enter the position : 7\n",
      "|x|o|x|\n",
      "|-|o|-|\n",
      "|x|-|-|\n",
      "Enter the position : 8\n",
      "|x|o|x|\n",
      "|-|o|-|\n",
      "|x|o|-|\n",
      "Player 2 win\n",
      "over\n"
     ]
    }
   ],
   "source": [
    "def inp(board):\n",
    "    x=int(input('Enter the position : '))\n",
    "    if board[x-1]!='-':\n",
    "        print('Value already exisit please enter a new value ')\n",
    "        return inp(board)\n",
    "    else:\n",
    "        return x\n",
    "    \n",
    "player1=input('Enter the name of the first player: ')\n",
    "player2=input('Enter the name of second plater: ')\n",
    "dis()\n",
    "for i in range(9):\n",
    "    if i%2==0:\n",
    "        x=inp(board)\n",
    "        board[x-1]='x'\n",
    "        dis()\n",
    "        if check(board):\n",
    "            print('Player 1 win')\n",
    "            break\n",
    "    else:\n",
    "        \n",
    "        x=inp(board)\n",
    "        board[x-1]='o'\n",
    "        dis()\n",
    "        if check(board):\n",
    "            print('Player 2 win')\n",
    "            break\n",
    "print('over')        \n",
    "        "
   ]
  },
  {
   "cell_type": "code",
   "execution_count": null,
   "id": "bd443602",
   "metadata": {},
   "outputs": [],
   "source": []
  },
  {
   "cell_type": "code",
   "execution_count": null,
   "id": "fcfd2fdd",
   "metadata": {},
   "outputs": [],
   "source": []
  },
  {
   "cell_type": "code",
   "execution_count": null,
   "id": "565ba8e1",
   "metadata": {},
   "outputs": [],
   "source": []
  },
  {
   "cell_type": "code",
   "execution_count": null,
   "id": "9043098b",
   "metadata": {},
   "outputs": [],
   "source": []
  },
  {
   "cell_type": "code",
   "execution_count": null,
   "id": "0501ecb3",
   "metadata": {},
   "outputs": [],
   "source": []
  },
  {
   "cell_type": "code",
   "execution_count": null,
   "id": "d2b3288d",
   "metadata": {},
   "outputs": [],
   "source": []
  },
  {
   "cell_type": "code",
   "execution_count": null,
   "id": "e24cca63",
   "metadata": {},
   "outputs": [],
   "source": []
  },
  {
   "cell_type": "code",
   "execution_count": null,
   "id": "8791c146",
   "metadata": {},
   "outputs": [],
   "source": []
  },
  {
   "cell_type": "code",
   "execution_count": null,
   "id": "3f4f5592",
   "metadata": {},
   "outputs": [],
   "source": []
  }
 ],
 "metadata": {
  "kernelspec": {
   "display_name": "Python 3 (ipykernel)",
   "language": "python",
   "name": "python3"
  },
  "language_info": {
   "codemirror_mode": {
    "name": "ipython",
    "version": 3
   },
   "file_extension": ".py",
   "mimetype": "text/x-python",
   "name": "python",
   "nbconvert_exporter": "python",
   "pygments_lexer": "ipython3",
   "version": "3.9.7"
  }
 },
 "nbformat": 4,
 "nbformat_minor": 5
}
